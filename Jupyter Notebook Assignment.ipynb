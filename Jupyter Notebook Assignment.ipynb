{
  "metadata": {
    "language_info": {
      "codemirror_mode": {
        "name": "python",
        "version": 3
      },
      "file_extension": ".py",
      "mimetype": "text/x-python",
      "name": "python",
      "nbconvert_exporter": "python",
      "pygments_lexer": "ipython3",
      "version": "3.8"
    },
    "kernelspec": {
      "name": "python",
      "display_name": "Pyolite",
      "language": "python"
    }
  },
  "nbformat_minor": 4,
  "nbformat": 4,
  "cells": [
    {
      "cell_type": "markdown",
      "source": " # My Jupyter Notebook on IBM Watson Studio ",
      "metadata": {}
    },
    {
      "cell_type": "markdown",
      "source": "**Jazzmon Smith** \n\nData Scientist",
      "metadata": {}
    },
    {
      "cell_type": "markdown",
      "source": "*I am interested in data science because I think that all of the things it allows you to do are very cool.*",
      "metadata": {}
    },
    {
      "cell_type": "markdown",
      "source": "### The code in the following cell is supposed to print \"Hello, World\"",
      "metadata": {}
    },
    {
      "cell_type": "code",
      "source": "print('Hello, World')",
      "metadata": {
        "trusted": true
      },
      "execution_count": 3,
      "outputs": [
        {
          "name": "stdout",
          "text": "Hello, World\n",
          "output_type": "stream"
        }
      ]
    },
    {
      "cell_type": "markdown",
      "source": "| header | header | header |\n| ------ | ------ | ------ |\n| one | cell | cell |\n| cell | cell | cell |\n| cell | cell | cell |\n| cell | cell | cell |\n\n1. First item in list\n2. Second item in list \n\n** First bulleted item\n** Second ",
      "metadata": {}
    },
    {
      "cell_type": "code",
      "source": "",
      "metadata": {},
      "execution_count": null,
      "outputs": []
    }
  ]
}